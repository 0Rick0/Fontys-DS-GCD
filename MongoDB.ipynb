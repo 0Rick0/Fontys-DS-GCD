{
 "cells": [
  {
   "cell_type": "markdown",
   "metadata": {
    "collapsed": true
   },
   "source": [
    "# MongoDB in Python\n"
   ]
  },
  {
   "cell_type": "code",
   "execution_count": 40,
   "metadata": {},
   "outputs": [],
   "source": [
    "from pymongo import MongoClient, IndexModel, ASCENDING, DESCENDING\n",
    "from bson.son import SON\n",
    "\n",
    "cl = MongoClient()\n",
    "\n",
    "scratch_db = cl.scratch\n"
   ]
  },
  {
   "cell_type": "code",
   "execution_count": 6,
   "metadata": {},
   "outputs": [
    {
     "name": "stdout",
     "output_type": "stream",
     "text": [
      "{'_id': '01001', 'city': 'AGAWAM', 'loc': [-72.622739, 42.070206], 'pop': 15338, 'state': 'MA'}\n{'_id': '01002', 'city': 'CUSHMAN', 'loc': [-72.51565, 42.377017], 'pop': 36963, 'state': 'MA'}\n{'_id': '01005', 'city': 'BARRE', 'loc': [-72.108354, 42.409698], 'pop': 4546, 'state': 'MA'}\n{'_id': '01007', 'city': 'BELCHERTOWN', 'loc': [-72.410953, 42.275103], 'pop': 10579, 'state': 'MA'}\n{'_id': '01008', 'city': 'BLANDFORD', 'loc': [-72.936114, 42.182949], 'pop': 1240, 'state': 'MA'}\n{'_id': '01010', 'city': 'BRIMFIELD', 'loc': [-72.188455, 42.116543], 'pop': 3706, 'state': 'MA'}\n{'_id': '01011', 'city': 'CHESTER', 'loc': [-72.988761, 42.279421], 'pop': 1688, 'state': 'MA'}\n{'_id': '01012', 'city': 'CHESTERFIELD', 'loc': [-72.833309, 42.38167], 'pop': 177, 'state': 'MA'}\n{'_id': '01013', 'city': 'CHICOPEE', 'loc': [-72.607962, 42.162046], 'pop': 23396, 'state': 'MA'}\n{'_id': '01020', 'city': 'CHICOPEE', 'loc': [-72.576142, 42.176443], 'pop': 31495, 'state': 'MA'}\n"
     ]
    }
   ],
   "source": [
    "first = scratch_db.zips.find().limit(10)\n",
    "for item in first:\n",
    "    print(item)"
   ]
  },
  {
   "cell_type": "markdown",
   "metadata": {},
   "source": [
    "# Index comparison\n",
    "See how indexes affect queries\n",
    "First without then with"
   ]
  },
  {
   "cell_type": "code",
   "execution_count": 23,
   "metadata": {
    "collapsed": false
   },
   "outputs": [
    {
     "name": "stdout",
     "output_type": "stream",
     "text": [
      "29353\n2\n{'executionSuccess': True, 'nReturned': 2, 'executionTimeMillis': 9, 'totalKeysExamined': 0, 'totalDocsExamined': 29353, 'executionStages': {'stage': 'COLLSCAN', 'filter': {'city': {'$eq': 'FLAGSTAFF'}}, 'nReturned': 2, 'executionTimeMillisEstimate': 10, 'works': 29355, 'advanced': 2, 'needTime': 29352, 'needYield': 0, 'saveState': 229, 'restoreState': 229, 'isEOF': 1, 'invalidates': 0, 'direction': 'forward', 'docsExamined': 29353}, 'allPlansExecution': []}\n"
     ]
    }
   ],
   "source": [
    "\n",
    "scratch_db.zips.drop_indexes()\n",
    "\n",
    "count = scratch_db.zips.find().count()\n",
    "city_count = scratch_db.zips.find({\"city\": \"FLAGSTAFF\"}).count()\n",
    "city_explain = scratch_db.zips.find({\"city\": \"FLAGSTAFF\"}).explain()['executionStats']\n",
    "\n",
    "print(count)\n",
    "print(city_count)\n",
    "print(city_explain)"
   ]
  },
  {
   "cell_type": "code",
   "execution_count": 38,
   "metadata": {},
   "outputs": [
    {
     "name": "stdout",
     "output_type": "stream",
     "text": [
      "29353\n2\n{'executionSuccess': True, 'nReturned': 2, 'executionTimeMillis': 0, 'totalKeysExamined': 2, 'totalDocsExamined': 2, 'executionStages': {'stage': 'FETCH', 'nReturned': 2, 'executionTimeMillisEstimate': 0, 'works': 3, 'advanced': 2, 'needTime': 0, 'needYield': 0, 'saveState': 0, 'restoreState': 0, 'isEOF': 1, 'invalidates': 0, 'docsExamined': 2, 'alreadyHasObj': 0, 'inputStage': {'stage': 'IXSCAN', 'nReturned': 2, 'executionTimeMillisEstimate': 0, 'works': 3, 'advanced': 2, 'needTime': 0, 'needYield': 0, 'saveState': 0, 'restoreState': 0, 'isEOF': 1, 'invalidates': 0, 'keyPattern': {'city': 1}, 'indexName': 'city_1', 'isMultiKey': False, 'multiKeyPaths': {'city': []}, 'isUnique': False, 'isSparse': False, 'isPartial': False, 'indexVersion': 2, 'direction': 'forward', 'indexBounds': {'city': ['[\"FLAGSTAFF\", \"FLAGSTAFF\"]']}, 'keysExamined': 2, 'seeks': 1, 'dupsTested': 0, 'dupsDropped': 0, 'seenInvalidated': 0}}, 'allPlansExecution': []}\n"
     ]
    }
   ],
   "source": [
    "scratch_db.zips.drop_indexes()\n",
    "scratch_db.zips.create_index([(\"city\", ASCENDING)])\n",
    "\n",
    "\n",
    "count = scratch_db.zips.find().count()\n",
    "city_count = scratch_db.zips.find({\"city\": \"FLAGSTAFF\"}).count()\n",
    "city_explain = scratch_db.zips.find({\"city\": \"FLAGSTAFF\"}).explain()['executionStats']\n",
    "\n",
    "print(count)\n",
    "print(city_count)\n",
    "print(city_explain)"
   ]
  },
  {
   "cell_type": "markdown",
   "metadata": {},
   "source": [
    "You can see with the index it's execution is a bit different.\n",
    "\n",
    "Seeing the executionTimeMillis parameter shows that the second one is executed much faster.\n",
    "\n",
    "This is because the index allow you to search the index instead of all the documents."
   ]
  },
  {
   "cell_type": "markdown",
   "metadata": {},
   "source": [
    "# Some other information about the dataset\n"
   ]
  },
  {
   "cell_type": "code",
   "execution_count": 47,
   "metadata": {},
   "outputs": [
    {
     "name": "stdout",
     "output_type": "stream",
     "text": [
      "Amount of cities per state:\nState TX:   1671\nState NY:   1595\nState CA:   1516\nState PA:   1458\nState IL:   1237\nState OH:   1007\nState MO:   994\nState IA:   922\nState MN:   882\nState MI:   876\nState VA:   816\nState KY:   809\nState FL:   804\nState WI:   716\nState KS:   715\nState NC:   705\nState IN:   676\nState WV:   656\nState GA:   635\nState OK:   586\nState TN:   582\nState AR:   578\nState NE:   574\nState AL:   567\nState NJ:   540\nState WA:   484\nState MA:   474\nState LA:   464\nState MD:   420\nState CO:   414\nState ME:   410\nState ND:   391\nState SD:   384\nState OR:   384\nState MS:   363\nState SC:   350\nState MT:   314\nState NM:   276\nState AZ:   270\nState CT:   263\nState ID:   244\nState VT:   243\nState NH:   218\nState UT:   205\nState AK:   195\nState WY:   140\nState NV:   104\nState HI:   80\nState RI:   69\nState DE:   53\nState DC:   24\n"
     ]
    }
   ],
   "source": [
    "print(\"Amount of cities per state:\")\n",
    "pipeline = [\n",
    "    {\"$unwind\": \"$state\"},\n",
    "    {\"$group\": {\"_id\": \"$state\", \"count\": {\"$sum\": 1}}},\n",
    "    {\"$sort\": SON([(\"count\", -1), (\"_id\", -1)])}\n",
    "    ]\n",
    "results = scratch_db.zips.aggregate(pipeline)\n",
    "for result in results:\n",
    "    print(\"State %s:   %d\" % tuple(result.values()))"
   ]
  },
  {
   "cell_type": "code",
   "execution_count": 50,
   "metadata": {},
   "outputs": [
    {
     "name": "stdout",
     "output_type": "stream",
     "text": [
      "Amount of cities with fewer then 50 people\n356 cities\nBUCKLAND: 16\nCAMBRIDGE: 0\nCLAYVILLE: 45\nEAST HEBRON: 47\nWEST NOTTINGHAM: 27\nBUSTINS ISLAND: 0\nCUSHING ISLAND: 28\nFRYE: 28\nRUMFORD POINT: 36\nCUSHING: 12\n"
     ]
    }
   ],
   "source": [
    "print(\"Amount of cities with fewer then 50 people\")\n",
    "lt = scratch_db.zips.find({\"pop\": {\"$lt\": 50}})\n",
    "print(\"%d cities\" % lt.count())\n",
    "for city in lt.limit(10):\n",
    "    print(\"%s: %d\" % (city['city'], city['pop']))"
   ]
  },
  {
   "cell_type": "markdown",
   "metadata": {},
   "source": [
    "# Geolocation\n",
    "Mongodb also has build in support for geolocation indexes\n",
    "\n",
    "This allows for searching for example nearby shops for a given location"
   ]
  },
  {
   "cell_type": "code",
   "execution_count": 67,
   "metadata": {},
   "outputs": [
    {
     "name": "stdout",
     "output_type": "stream",
     "text": [
      "FLAGSTAFF\nFLAGSTAFF\nMORMON LAKE\nSEDONA\n"
     ]
    }
   ],
   "source": [
    "scratch_db.zips.create_index([(\"loc\", \"2dsphere\")])\n",
    "flagstaff = scratch_db.zips.find_one({\"city\": \"FLAGSTAFF\"})\n",
    "nearby = scratch_db.zips.find({\"loc\": {\n",
    "    \"$near\": {\n",
    "        \"$geometry\": {\n",
    "            'type': 'Point',\n",
    "            'coordinates': flagstaff['loc']\n",
    "        },\n",
    "        \"$maxDistance\": 50000\n",
    "    }\n",
    "}})\n",
    "\n",
    "for city in nearby:\n",
    "    print(city['city'])"
   ]
  }
 ],
 "metadata": {
  "kernelspec": {
   "display_name": "Python 2",
   "language": "python",
   "name": "python2"
  },
  "language_info": {
   "codemirror_mode": {
    "name": "ipython",
    "version": 2
   },
   "file_extension": ".py",
   "mimetype": "text/x-python",
   "name": "python",
   "nbconvert_exporter": "python",
   "pygments_lexer": "ipython2",
   "version": "2.7.6"
  }
 },
 "nbformat": 4,
 "nbformat_minor": 0
}
